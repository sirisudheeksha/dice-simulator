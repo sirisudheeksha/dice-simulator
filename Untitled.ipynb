{
 "cells": [
  {
   "cell_type": "code",
   "execution_count": 115,
   "metadata": {},
   "outputs": [],
   "source": [
    "from tkinter import *\n",
    "#from playsound import Playsound\n",
    "import random\n",
    "import time as t\n",
    "r=Tk()\n",
    "r.title(\"Dice simulator game\")\n",
    "r.geometry(\"400x400\")\n",
    "l1=Label(r,font=(\"Arial\",100),text=\"\")\n",
    "l2=Label(r,font=(\"Arial\",100),text=\"\")\n",
    "\n",
    "def rolldice():\n",
    "    #Playsound(\"dicesound.mp3\")\n",
    "    #t.sleep(2)\n",
    "    dice={\"1\":\"\\u2680\",\"2\":\"\\u2681\",\"3\":\"\\u2682\",\"4\":\"\\u2683\",\"5\":\"\\u2684\",\"6\":\"\\u2685\"}\n",
    "    a=random.randint(1,6)\n",
    "    l1.configure(text=dice[str(a)])\n",
    "    l1.grid(row=2,column=1)\n",
    "    t1=Label(r,text=\"Player\").grid(row=3,column=1)\n",
    "    b=random.randint(1,6)\n",
    "    l2.configure(text=dice[str(b)])\n",
    "    l2.grid(row=2,column=2)\n",
    "    t2=Label(r,text=\"Computer\").grid(row=3,column=2)\n",
    "    lab=Label(r,text=\"\")\n",
    "    if a>b:\n",
    "        lab.config(text=\"Yay u won  \",bg='red',font=('bold'))\n",
    "        lab.grid(row=4,column=2)\n",
    "        \n",
    "        \n",
    "    elif a==b:\n",
    "        lab.config(text=\"    It's tie     \",bg='red',font=('bold'))\n",
    "        lab.grid(row=4,column=2)\n",
    "        \n",
    "        \n",
    "       \n",
    "    else:\n",
    "        lab.config(text=\"Oops u lost\",bg='red',font=('bold'))\n",
    "        lab.grid(row=4,column=2)\n",
    "        \n",
    "       \n",
    "       \n",
    "button=Button(r,text=\"Click to roll!\",command=rolldice)\n",
    "button.grid(row=1,column=1)\n",
    "r.mainloop()\n"
   ]
  },
  {
   "cell_type": "code",
   "execution_count": null,
   "metadata": {},
   "outputs": [],
   "source": []
  },
  {
   "cell_type": "code",
   "execution_count": null,
   "metadata": {},
   "outputs": [],
   "source": []
  },
  {
   "cell_type": "code",
   "execution_count": 113,
   "metadata": {},
   "outputs": [],
   "source": []
  },
  {
   "cell_type": "code",
   "execution_count": null,
   "metadata": {},
   "outputs": [],
   "source": []
  },
  {
   "cell_type": "code",
   "execution_count": null,
   "metadata": {},
   "outputs": [],
   "source": []
  }
 ],
 "metadata": {
  "kernelspec": {
   "display_name": "Python 3",
   "language": "python",
   "name": "python3"
  },
  "language_info": {
   "codemirror_mode": {
    "name": "ipython",
    "version": 3
   },
   "file_extension": ".py",
   "mimetype": "text/x-python",
   "name": "python",
   "nbconvert_exporter": "python",
   "pygments_lexer": "ipython3",
   "version": "3.8.5"
  }
 },
 "nbformat": 4,
 "nbformat_minor": 5
}
